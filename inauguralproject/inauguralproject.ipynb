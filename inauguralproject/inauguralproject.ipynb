{
 "cells": [
  {
   "cell_type": "markdown",
   "metadata": {},
   "source": [
    "# Inaugural Project"
   ]
  },
  {
   "cell_type": "markdown",
   "metadata": {},
   "source": [
    "> **Note the following:** \n",
    "> 1. This is an example of how to structure your **inaugural project**.\n",
    "> 1. Remember the general advice on structuring and commenting your code from [lecture 5](https://numeconcopenhagen.netlify.com/lectures/Workflow_and_debugging).\n",
    "> 1. Remember this [guide](https://www.markdownguide.org/basic-syntax/) on markdown and (a bit of) latex.\n",
    "> 1. Turn on automatic numbering by clicking on the small icon on top of the table of contents in the left sidebar.\n",
    "> 1. The `inauguralproject.py` file includes a function which can be used multiple times in this notebook."
   ]
  },
  {
   "cell_type": "markdown",
   "metadata": {},
   "source": [
    "Imports and set magics:"
   ]
  },
  {
   "cell_type": "code",
   "execution_count": 27,
   "metadata": {},
   "outputs": [
    {
     "name": "stdout",
     "output_type": "stream",
     "text": [
      "The autoreload extension is already loaded. To reload it, use:\n",
      "  %reload_ext autoreload\n"
     ]
    }
   ],
   "source": [
    "import numpy as np\n",
    "from scipy import optimize\n",
    "\n",
    "# autoreload modules when code is run\n",
    "%load_ext autoreload\n",
    "%autoreload 2\n",
    "# local modules\n",
    "import inauguralproject"
   ]
  },
  {
   "cell_type": "markdown",
   "metadata": {
    "toc-hr-collapsed": true
   },
   "source": [
    "# Question 1"
   ]
  },
  {
   "cell_type": "markdown",
   "metadata": {},
   "source": [
    "BRIEFLY EXPLAIN HOW YOU SOLVE THE MODEL."
   ]
  },
  {
   "cell_type": "code",
   "execution_count": 75,
   "metadata": {},
   "outputs": [
    {
     "name": "stdout",
     "output_type": "stream",
     "text": [
      "labour supply is:0.31961536193545265\n",
      "consumption is:1.119903840483863\n",
      "utility:(1.119903840483863, 0.31961536193545265, 10, 0.3)\n"
     ]
    }
   ],
   "source": [
    "m = 1 #cash-on-hand\n",
    "v = 10 #disutility of labor\n",
    "eps = 0.3 #elasticity of labor supply\n",
    "tau_0 = 0.4 #standard labor income tax\n",
    "tau_1 = 0.1 #top bracket labor income tax\n",
    "kappa = 0.4 #cut-off for top labor income tax\n",
    "\n",
    "\n",
    "# Defining utility\n",
    "\n",
    "def utility(c,v,l,eps):\n",
    "    u = np.log(c) - v*(l**(1+1/eps)/(1+1/eps))\n",
    "    return u\n",
    "\n",
    "# Defining constraint\n",
    "\n",
    "def eq(m,w,l,tau_0,tau_1,kappa):\n",
    "    x = m + w*l - (tau_0*w*l + tau_1*np.max(w*l-kappa,0))\n",
    "    return x\n",
    "\n",
    "\n",
    "def choice(l,w,eps,v,tau_0,tau_1,kappa):\n",
    "    c = eq(m,w,l,tau_0,tau_1,kappa)\n",
    "    return -utility(c,v,l,eps)\n",
    "\n",
    "\n",
    "def optimizer(w,eps,v,tau_0,tau_1,kappa,m):\n",
    "    res = optimize.minimize_scalar(\n",
    "    choice, method='bounded',\n",
    "    bounds=(0,1), args=(w,eps,v,tau_0,tau_1,kappa))\n",
    "    \n",
    "    l_star = res.x\n",
    "    c_star = x(m,w,l_star,tau_0,tau_1,kappa)\n",
    "    utility_star = (c_star,l_star,v,eps)\n",
    "    \n",
    "    return l_star,c_star,utility_star\n",
    "\n",
    "l_star = optimizer(0.5,eps,v,tau_0,tau_1,kappa,m)[0]\n",
    "c_star = optimizer(0.5,eps,v,tau_0,tau_1,kappa,m)[1]\n",
    "u_star = optimizer(0.5,eps,v,tau_0,tau_1,kappa,m)[2]\n",
    "\n",
    "print('labour supply is:' + str(l_star))\n",
    "print('consumption is:' + str(c_star))\n",
    "print('utility:' +  str(u_star))\n",
    "\n",
    "\n"
   ]
  },
  {
   "cell_type": "markdown",
   "metadata": {},
   "source": [
    "# Question 2"
   ]
  },
  {
   "cell_type": "markdown",
   "metadata": {},
   "source": [
    "ADD ANSWER."
   ]
  },
  {
   "cell_type": "code",
   "execution_count": 3,
   "metadata": {},
   "outputs": [],
   "source": []
  },
  {
   "cell_type": "markdown",
   "metadata": {},
   "source": [
    "# Question 3"
   ]
  },
  {
   "cell_type": "markdown",
   "metadata": {},
   "source": [
    "ADD ANSWER."
   ]
  },
  {
   "cell_type": "code",
   "execution_count": 4,
   "metadata": {},
   "outputs": [],
   "source": [
    "# code"
   ]
  },
  {
   "cell_type": "markdown",
   "metadata": {},
   "source": [
    "# Question 4"
   ]
  },
  {
   "cell_type": "markdown",
   "metadata": {},
   "source": [
    "ADD ANSWER."
   ]
  },
  {
   "cell_type": "code",
   "execution_count": 5,
   "metadata": {},
   "outputs": [],
   "source": [
    "# code"
   ]
  },
  {
   "cell_type": "markdown",
   "metadata": {},
   "source": [
    "# Question 5"
   ]
  },
  {
   "cell_type": "markdown",
   "metadata": {},
   "source": [
    "ADD ANSWER."
   ]
  },
  {
   "cell_type": "code",
   "execution_count": 6,
   "metadata": {},
   "outputs": [],
   "source": [
    "# code"
   ]
  },
  {
   "cell_type": "markdown",
   "metadata": {},
   "source": [
    "# Conclusion"
   ]
  },
  {
   "cell_type": "markdown",
   "metadata": {},
   "source": [
    "ADD CONCISE CONLUSION."
   ]
  }
 ],
 "metadata": {
  "kernelspec": {
   "display_name": "Python 3",
   "language": "python",
   "name": "python3"
  },
  "language_info": {
   "codemirror_mode": {
    "name": "ipython",
    "version": 3
   },
   "file_extension": ".py",
   "mimetype": "text/x-python",
   "name": "python",
   "nbconvert_exporter": "python",
   "pygments_lexer": "ipython3",
   "version": "3.7.4"
  },
  "toc-autonumbering": true
 },
 "nbformat": 4,
 "nbformat_minor": 4
}
